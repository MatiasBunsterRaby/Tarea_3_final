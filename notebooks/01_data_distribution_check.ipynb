{
 "cells": [
  {
   "cell_type": "code",
   "execution_count": 1,
   "metadata": {},
   "outputs": [],
   "source": [
    "%load_ext autoreload\n",
    "%autoreload 2\n",
    "\n",
    "import sys\n",
    "sys.path.append(\"..\")\n",
    "\n",
    "import pandas as pd\n",
    "from scipy import stats\n",
    "\n",
    "from src.dataset import load_data\n",
    "from src.features import build_features, compare_distributions"
   ]
  },
  {
   "cell_type": "markdown",
   "metadata": {},
   "source": [
    "Code from here: https://github.com/shreyashankar/debugging-ml-talk/blob/main/nyc_taxi_2020.ipynb"
   ]
  },
  {
   "cell_type": "markdown",
   "metadata": {},
   "source": [
    "## Loading data"
   ]
  },
  {
   "cell_type": "code",
   "execution_count": 2,
   "metadata": {},
   "outputs": [],
   "source": [
    "taxi_jan = load_data(year=2020, month=1)\n",
    "taxi_feb = load_data(year=2020, month=2)\n",
    "taxi_mar = load_data(year=2020, month=3)"
   ]
  },
  {
   "cell_type": "code",
   "execution_count": 3,
   "metadata": {},
   "outputs": [
    {
     "data": {
      "text/plain": [
       "(6405008, 6299367, 3007687)"
      ]
     },
     "execution_count": 3,
     "metadata": {},
     "output_type": "execute_result"
    }
   ],
   "source": [
    "len(taxi_jan), len(taxi_feb), len(taxi_mar)"
   ]
  },
  {
   "cell_type": "markdown",
   "metadata": {},
   "source": [
    "## Pre-processing"
   ]
  },
  {
   "cell_type": "code",
   "execution_count": 4,
   "metadata": {},
   "outputs": [],
   "source": [
    "target_col = \"high_tip\"\n",
    "\n",
    "taxi_jan = build_features(taxi_jan.sample(100000), target_col)\n",
    "taxi_feb = build_features(taxi_feb.sample(100000), target_col)\n",
    "taxi_mar = build_features(taxi_mar.sample(100000), target_col)"
   ]
  },
  {
   "cell_type": "markdown",
   "metadata": {},
   "source": [
    "## Test distributions\n",
    "\n",
    "Maybe the distribution of data shifted. We could try to quantify this using a 2-sided statistical test (Kolmogorov Smirnov in this example).\n",
    "\n",
    "### Compare January 2020 vs February 2020\n",
    "\n",
    "The p values being small doesn't really tell us much, as we get very small p values when comparing January 2020 vs February 2020 even though we know the F1 score was similar. Curse \"big data.\""
   ]
  },
  {
   "cell_type": "code",
   "execution_count": 6,
   "metadata": {},
   "outputs": [
    {
     "data": {
      "text/html": [
       "<div>\n",
       "<style scoped>\n",
       "    .dataframe tbody tr th:only-of-type {\n",
       "        vertical-align: middle;\n",
       "    }\n",
       "\n",
       "    .dataframe tbody tr th {\n",
       "        vertical-align: top;\n",
       "    }\n",
       "\n",
       "    .dataframe thead th {\n",
       "        text-align: right;\n",
       "    }\n",
       "</style>\n",
       "<table border=\"1\" class=\"dataframe\">\n",
       "  <thead>\n",
       "    <tr style=\"text-align: right;\">\n",
       "      <th></th>\n",
       "      <th>feature</th>\n",
       "      <th>statistic</th>\n",
       "      <th>p_value</th>\n",
       "    </tr>\n",
       "  </thead>\n",
       "  <tbody>\n",
       "    <tr>\n",
       "      <th>0</th>\n",
       "      <td>pickup_weekday</td>\n",
       "      <td>0.047419</td>\n",
       "      <td>8.238052e-98</td>\n",
       "    </tr>\n",
       "    <tr>\n",
       "      <th>7</th>\n",
       "      <td>trip_speed</td>\n",
       "      <td>0.039734</td>\n",
       "      <td>8.571128e-69</td>\n",
       "    </tr>\n",
       "    <tr>\n",
       "      <th>2</th>\n",
       "      <td>work_hours</td>\n",
       "      <td>0.027527</td>\n",
       "      <td>3.099905e-33</td>\n",
       "    </tr>\n",
       "    <tr>\n",
       "      <th>6</th>\n",
       "      <td>trip_time</td>\n",
       "      <td>0.017964</td>\n",
       "      <td>2.122676e-14</td>\n",
       "    </tr>\n",
       "    <tr>\n",
       "      <th>1</th>\n",
       "      <td>pickup_hour</td>\n",
       "      <td>0.008107</td>\n",
       "      <td>2.845354e-03</td>\n",
       "    </tr>\n",
       "    <tr>\n",
       "      <th>5</th>\n",
       "      <td>trip_distance</td>\n",
       "      <td>0.006727</td>\n",
       "      <td>2.189595e-02</td>\n",
       "    </tr>\n",
       "    <tr>\n",
       "      <th>8</th>\n",
       "      <td>PULocationID</td>\n",
       "      <td>0.005767</td>\n",
       "      <td>7.238714e-02</td>\n",
       "    </tr>\n",
       "    <tr>\n",
       "      <th>9</th>\n",
       "      <td>DOLocationID</td>\n",
       "      <td>0.004849</td>\n",
       "      <td>1.912818e-01</td>\n",
       "    </tr>\n",
       "    <tr>\n",
       "      <th>3</th>\n",
       "      <td>pickup_minute</td>\n",
       "      <td>0.003681</td>\n",
       "      <td>5.082157e-01</td>\n",
       "    </tr>\n",
       "    <tr>\n",
       "      <th>4</th>\n",
       "      <td>passenger_count</td>\n",
       "      <td>0.002981</td>\n",
       "      <td>7.664661e-01</td>\n",
       "    </tr>\n",
       "    <tr>\n",
       "      <th>10</th>\n",
       "      <td>RatecodeID</td>\n",
       "      <td>0.002981</td>\n",
       "      <td>7.664661e-01</td>\n",
       "    </tr>\n",
       "  </tbody>\n",
       "</table>\n",
       "</div>"
      ],
      "text/plain": [
       "            feature  statistic       p_value\n",
       "0    pickup_weekday   0.047419  8.238052e-98\n",
       "7        trip_speed   0.039734  8.571128e-69\n",
       "2        work_hours   0.027527  3.099905e-33\n",
       "6         trip_time   0.017964  2.122676e-14\n",
       "1       pickup_hour   0.008107  2.845354e-03\n",
       "5     trip_distance   0.006727  2.189595e-02\n",
       "8      PULocationID   0.005767  7.238714e-02\n",
       "9      DOLocationID   0.004849  1.912818e-01\n",
       "3     pickup_minute   0.003681  5.082157e-01\n",
       "4   passenger_count   0.002981  7.664661e-01\n",
       "10       RatecodeID   0.002981  7.664661e-01"
      ]
     },
     "execution_count": 6,
     "metadata": {},
     "output_type": "execute_result"
    }
   ],
   "source": [
    "comparison_df = compare_distributions(taxi_jan, taxi_feb)\n",
    "comparison_df.sort_values(by='p_value', ascending=True).head(11)"
   ]
  },
  {
   "cell_type": "markdown",
   "metadata": {},
   "source": [
    "### Compare February 2020 vs March 2020\n",
    "\n",
    "These p values are also small, which is good? But if this method in general sends warning alerts all the time, an end user might not trust it."
   ]
  },
  {
   "cell_type": "code",
   "execution_count": 7,
   "metadata": {},
   "outputs": [
    {
     "data": {
      "text/html": [
       "<div>\n",
       "<style scoped>\n",
       "    .dataframe tbody tr th:only-of-type {\n",
       "        vertical-align: middle;\n",
       "    }\n",
       "\n",
       "    .dataframe tbody tr th {\n",
       "        vertical-align: top;\n",
       "    }\n",
       "\n",
       "    .dataframe thead th {\n",
       "        text-align: right;\n",
       "    }\n",
       "</style>\n",
       "<table border=\"1\" class=\"dataframe\">\n",
       "  <thead>\n",
       "    <tr style=\"text-align: right;\">\n",
       "      <th></th>\n",
       "      <th>feature</th>\n",
       "      <th>statistic</th>\n",
       "      <th>p_value</th>\n",
       "    </tr>\n",
       "  </thead>\n",
       "  <tbody>\n",
       "    <tr>\n",
       "      <th>7</th>\n",
       "      <td>trip_speed</td>\n",
       "      <td>0.065278</td>\n",
       "      <td>5.573488e-185</td>\n",
       "    </tr>\n",
       "    <tr>\n",
       "      <th>0</th>\n",
       "      <td>pickup_weekday</td>\n",
       "      <td>0.063414</td>\n",
       "      <td>1.394967e-174</td>\n",
       "    </tr>\n",
       "    <tr>\n",
       "      <th>2</th>\n",
       "      <td>work_hours</td>\n",
       "      <td>0.039483</td>\n",
       "      <td>6.602832e-68</td>\n",
       "    </tr>\n",
       "    <tr>\n",
       "      <th>1</th>\n",
       "      <td>pickup_hour</td>\n",
       "      <td>0.024527</td>\n",
       "      <td>1.834635e-26</td>\n",
       "    </tr>\n",
       "    <tr>\n",
       "      <th>6</th>\n",
       "      <td>trip_time</td>\n",
       "      <td>0.021801</td>\n",
       "      <td>5.353301e-21</td>\n",
       "    </tr>\n",
       "    <tr>\n",
       "      <th>5</th>\n",
       "      <td>trip_distance</td>\n",
       "      <td>0.021554</td>\n",
       "      <td>1.561496e-20</td>\n",
       "    </tr>\n",
       "    <tr>\n",
       "      <th>4</th>\n",
       "      <td>passenger_count</td>\n",
       "      <td>0.020344</td>\n",
       "      <td>2.435018e-18</td>\n",
       "    </tr>\n",
       "    <tr>\n",
       "      <th>9</th>\n",
       "      <td>DOLocationID</td>\n",
       "      <td>0.016979</td>\n",
       "      <td>6.649330e-13</td>\n",
       "    </tr>\n",
       "    <tr>\n",
       "      <th>8</th>\n",
       "      <td>PULocationID</td>\n",
       "      <td>0.014496</td>\n",
       "      <td>1.602196e-09</td>\n",
       "    </tr>\n",
       "    <tr>\n",
       "      <th>10</th>\n",
       "      <td>RatecodeID</td>\n",
       "      <td>0.005068</td>\n",
       "      <td>1.541831e-01</td>\n",
       "    </tr>\n",
       "    <tr>\n",
       "      <th>3</th>\n",
       "      <td>pickup_minute</td>\n",
       "      <td>0.002834</td>\n",
       "      <td>8.174846e-01</td>\n",
       "    </tr>\n",
       "  </tbody>\n",
       "</table>\n",
       "</div>"
      ],
      "text/plain": [
       "            feature  statistic        p_value\n",
       "7        trip_speed   0.065278  5.573488e-185\n",
       "0    pickup_weekday   0.063414  1.394967e-174\n",
       "2        work_hours   0.039483   6.602832e-68\n",
       "1       pickup_hour   0.024527   1.834635e-26\n",
       "6         trip_time   0.021801   5.353301e-21\n",
       "5     trip_distance   0.021554   1.561496e-20\n",
       "4   passenger_count   0.020344   2.435018e-18\n",
       "9      DOLocationID   0.016979   6.649330e-13\n",
       "8      PULocationID   0.014496   1.602196e-09\n",
       "10       RatecodeID   0.005068   1.541831e-01\n",
       "3     pickup_minute   0.002834   8.174846e-01"
      ]
     },
     "execution_count": 7,
     "metadata": {},
     "output_type": "execute_result"
    }
   ],
   "source": [
    "comparison_df = compare_distributions(taxi_feb, taxi_mar)\n",
    "comparison_df.sort_values(by='p_value', ascending=True).head(11)"
   ]
  }
 ],
 "metadata": {
  "kernelspec": {
   "display_name": ".venv",
   "language": "python",
   "name": "python3"
  },
  "language_info": {
   "codemirror_mode": {
    "name": "ipython",
    "version": 3
   },
   "file_extension": ".py",
   "mimetype": "text/x-python",
   "name": "python",
   "nbconvert_exporter": "python",
   "pygments_lexer": "ipython3",
   "version": "3.8.18"
  }
 },
 "nbformat": 4,
 "nbformat_minor": 2
}
